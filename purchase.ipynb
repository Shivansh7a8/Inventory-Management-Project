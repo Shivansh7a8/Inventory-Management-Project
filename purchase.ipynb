{
  "nbformat": 4,
  "nbformat_minor": 0,
  "metadata": {
    "colab": {
      "name": "purchase.ipynb",
      "provenance": [],
      "collapsed_sections": []
    },
    "kernelspec": {
      "name": "python3",
      "display_name": "Python 3"
    },
    "language_info": {
      "name": "python"
    }
  },
  "cells": [
    {
      "cell_type": "code",
      "metadata": {
        "id": "ZGUHBVtY0eVH"
      },
      "source": [
        "import json\n",
        "\n",
        "fd = open(\"record.json\",\"r\")\n",
        "r=fd.read()\n",
        "fd.close()\n",
        "\n",
        "records=json.loads(r)"
      ],
      "execution_count": 23,
      "outputs": []
    },
    {
      "cell_type": "code",
      "metadata": {
        "id": "oFJeemmRqZiV"
      },
      "source": [
        "records"
      ],
      "execution_count": null,
      "outputs": []
    },
    {
      "cell_type": "code",
      "metadata": {
        "id": "548XEpKrNWNQ"
      },
      "source": [
        "import time\n",
        "t=time.ctime()\n",
        "\n",
        "ui_prod  = str (input(\"Enter the product_Id: \"))\n",
        "ui_quant = int (input(\"Enter the quantity: \"))\n",
        " \n",
        "print(\"***********************\")\n",
        "print(\"Product: \", records[ui_prod]['name'])\n",
        "print(\"Price: \",records[ui_prod]['price'])\n",
        "print(\"Exp.date: \",records[ui_prod]['expdate'])\n",
        "print(\"purchase Time:\",t)\n",
        "print(\"------------------------\")\n",
        "print(\"Billing Amout: Rs\", records[ui_prod]['price']*ui_quant)\n",
        "\n",
        "records[ui_prod]['qty']=records[ui_prod]['qty']-ui_quant\n"
      ],
      "execution_count": null,
      "outputs": []
    },
    {
      "cell_type": "code",
      "metadata": {
        "id": "Dx1WwJJdgYcJ"
      },
      "source": [
        "js=json.dumps(records)\n",
        "\n",
        "fd=open(\"record.json\",'w')\n",
        "fd.write(js)\n",
        "fd.close()"
      ],
      "execution_count": 67,
      "outputs": []
    },
    {
      "cell_type": "code",
      "metadata": {
        "id": "KUmwniCmLyNr"
      },
      "source": [
        "sales={1:{'prod_id':ui_prod,'product':records[ui_prod]['name'],'price':records[ui_prod]['price'],'qty':ui_quant,'amount':records[ui_prod]['price']*ui_quant,'time':t},}"
      ],
      "execution_count": 27,
      "outputs": []
    },
    {
      "cell_type": "code",
      "metadata": {
        "id": "Ov-9HKjc2O3j"
      },
      "source": [
        "sales[(len(sales)+1)]={'prod_id':ui_prod,'product':records[ui_prod]['name'],'qty':ui_quant,'price':records[ui_prod]['price'],'amount':records[ui_prod]['price']*ui_quant,'time':t,}"
      ],
      "execution_count": 68,
      "outputs": []
    },
    {
      "cell_type": "code",
      "metadata": {
        "id": "KxliB3sgxop4"
      },
      "source": [
        "sale=json.dumps(sales)\n",
        "\n",
        "fd=open(\"sales.json\",'w')\n",
        "fd.write(sale)\n",
        "fd.close()"
      ],
      "execution_count": 69,
      "outputs": []
    }
  ]
}