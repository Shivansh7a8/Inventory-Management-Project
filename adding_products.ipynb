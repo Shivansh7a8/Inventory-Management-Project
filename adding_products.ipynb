{
  "nbformat": 4,
  "nbformat_minor": 0,
  "metadata": {
    "colab": {
      "name": "adding products.ipynb",
      "provenance": [],
      "collapsed_sections": []
    },
    "kernelspec": {
      "name": "python3",
      "display_name": "Python 3"
    },
    "language_info": {
      "name": "python"
    }
  },
  "cells": [
    {
      "cell_type": "code",
      "metadata": {
        "id": "ZGUHBVtY0eVH"
      },
      "source": [
        "import json\n",
        "\n",
        "record={1001:{\"name\": \"Fanta\",\"qty\": 20,\"price\": 12,\"expdate\": \"nov-2021\"},\n",
        "        1002:{\"name\": \"Maza\",\"qty\": 24,\"price\": 12,\"expdate\": \"nov-2021\"},}\n",
        "\n",
        "js=json.dumps(record)\n",
        "\n",
        "fd = open(\"record.json\",\"w\")\n",
        "fd.write(js)\n",
        "fd.close()        "
      ],
      "execution_count": null,
      "outputs": []
    },
    {
      "cell_type": "code",
      "metadata": {
        "id": "OkHQVL8wv0Yw"
      },
      "source": [
        "fd = open(\"record.json\",\"r\")\n",
        "r = fd.read()\n",
        "fd.close()"
      ],
      "execution_count": null,
      "outputs": []
    },
    {
      "cell_type": "code",
      "metadata": {
        "id": "GoZRDhhu2JA7"
      },
      "source": [
        "record=json.loads(r)"
      ],
      "execution_count": null,
      "outputs": []
    },
    {
      "cell_type": "code",
      "metadata": {
        "id": "hdon3iIhQVrM"
      },
      "source": [
        "prod_id=str(input(\"Enter Product Id:\"))\n",
        "name=str(input(\"Enter Name:\"))\n",
        "qty=int(input(\"Enter Quantity:\"))\n",
        "price=int(input(\"Enter Price:\"))\n",
        "expdate=str(input(\"Enter Expiry Date:\"))\n",
        "\n",
        "record[prod_id]={\"name\": name,\"qty\": qty,\"price\": price,\"expdate\": expdate}\n",
        "\n",
        "js=json.dumps(record)\n",
        "\n",
        "fd = open(\"record.json\",\"w\")\n",
        "fd.write(js)\n",
        "fd.close()"
      ],
      "execution_count": null,
      "outputs": []
    }
  ]
}